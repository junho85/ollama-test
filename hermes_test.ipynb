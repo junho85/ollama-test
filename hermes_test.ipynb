{
 "cells": [
  {
   "cell_type": "code",
   "id": "initial_id",
   "metadata": {
    "collapsed": true,
    "ExecuteTime": {
     "end_time": "2024-09-19T05:27:44.281232Z",
     "start_time": "2024-09-19T05:27:44.045167Z"
    }
   },
   "source": [
    "from openai import OpenAI\n",
    "\n",
    "client = OpenAI(base_url=\"http://localhost:11434/v1\", api_key=\"api_key\")\n",
    "\n",
    "\n",
    "def test_chat_completions(user, system=\"You are a helpful assistant.\", model=\"hermes3\"):\n",
    "    response = client.chat.completions.create(\n",
    "        model=model,\n",
    "        messages=[\n",
    "            {\"role\": \"system\", \"content\": system},\n",
    "            {\"role\": \"user\", \"content\": user},\n",
    "        ],\n",
    "        stream=True,\n",
    "    )\n",
    "    for chunk in response:\n",
    "        print(chunk.choices[0].delta.content, end='')\n",
    "\n",
    "def test_hermes3_completions(prompt):\n",
    "    response = client.completions.create(\n",
    "        model=\"hermes3\",\n",
    "        prompt=prompt,\n",
    "        stream=True,\n",
    "    )\n",
    "    for chunk in response:\n",
    "        print(chunk.choices[0].text, end='')\n",
    "\n"
   ],
   "outputs": [],
   "execution_count": 1
  },
  {
   "metadata": {
    "ExecuteTime": {
     "end_time": "2024-09-07T06:54:07.746380Z",
     "start_time": "2024-09-07T06:53:58.588230Z"
    }
   },
   "cell_type": "code",
   "source": "test_chat_completions(\"대량으로 SMS 를 보내는 방법 알려줘\")",
   "id": "a72e541af2329219",
   "outputs": [
    {
     "name": "stdout",
     "output_type": "stream",
     "text": [
      "\n",
      "직접 대량의 텍스트 메시지를 보내려면 여러 가지 옵션이 있습니다. 여기 몇 가지가 있어요:\n",
      "\n",
      "1. **엔드투엔드 솔루션 제공기업**\n",
      "    - 스포티파이, 페이스북 등 일부 기업은 대량 SMS 발송 서비스를 제공합니다. 이러한 회사들은 사용자가 쉽게 이용할 수있는 간단한 웹 인터페이스를 가지고 있고 가격도 저렴합니다.\n",
      "\n",
      "2. **문자 서비스 프랜차이즈**\n",
      "   - 글로벌 또는 지역적 텍스트 메시지 서비스.provider에게 직접 연락하여 대량 발송 옵션을 문의하십시오 (예: Twilio, Nexmo 등). 이러한 서비스는 API를 사용하여 프로그램화할 수 있습니다.\n",
      "   일부 회사들은 월정비 또는 약간의 비용으로 정기적인 SMS 마케팅 솔루션을 제공합니다. \n",
      "\n",
      "3. **메시지 전문회사**\n",
      "    - 대량 텍스트 메시지를 보내기 위한 특별한 전문업체도 있어요. 이들은 주로 정치적 및 정부 차원에서 메시지를 전달하는데 사용됩니다. 이러한 서비스는 일반인으로 하여금 대량의 메시지를 보낼 수 있게 해주지만, 가격은 비싸요.\n",
      "\n",
      "4. **소프트웨어**\n",
      "   몇 가지 소프트웨어 프로그램이 있습니다. 이러한 프로그램들은 일반적으로 정기적인 업데이트와 함께 사용자들이 대량의 SMS를 보낼 수 있게 도와줍니다. 이 방법은 전문지식을 필요로 하니 주의한다.\n",
      "\n",
      "대단히 조심하셔야 할 사항은, 스팸 메시지를 보내는 것은 불법이며, 많은 국가에서 처벌받습니다. 이 방법을 선택할 때마다 지역 법규를 명확하게 이해하고 준수해야 합니다."
     ]
    }
   ],
   "execution_count": 21
  },
  {
   "metadata": {
    "ExecuteTime": {
     "end_time": "2024-09-07T05:10:05.957231Z",
     "start_time": "2024-09-07T05:10:03.431674Z"
    }
   },
   "cell_type": "code",
   "source": "test_chat_completions(\"Testing, testing. Hello, who are you?\", \"\")",
   "id": "99386816d2ad9f46",
   "outputs": [
    {
     "name": "stdout",
     "output_type": "stream",
     "text": [
      "\n",
      "Hello! It's great to meet you. I'm Hermes, an AI language model. I help with things like conversation, writing, and analysis. Let me know if there are any topics you'd like to discuss or if I can assist with anything else. I'm here to chat and explore ideas however you'd like."
     ]
    }
   ],
   "execution_count": 9
  },
  {
   "metadata": {
    "ExecuteTime": {
     "end_time": "2024-09-07T06:54:19.941287Z",
     "start_time": "2024-09-07T06:54:12.604735Z"
    }
   },
   "cell_type": "code",
   "source": "test_hermes3_completions(\"대량으로 SMS 를 보내는 방법 알려줘\")",
   "id": "ed45d06faa6c761c",
   "outputs": [
    {
     "name": "stdout",
     "output_type": "stream",
     "text": [
      "\n",
      "대량의 SMS를 보낼 때主要한 몇 가지 방법이 있습니다. 그러나 광고성 메시지는 대체적으로 금지되어 있으므로, 이러한 활동은 주의해서 수행해야 합니다.\n",
      "\n",
      "1. 공식 앱을 사용하기: WhatsApp, 문자메신져 등 일부 이동통신업체에서 제공하는 문자 앱에서 대량 전송 기능이 있을 수 있습니다. 이 기능도 광고 목적으로 사용하지 말고 개인적으로만 사용하세요.\n",
      "\n",
      "2. 웹 서비스를 활용하기: 인터넷에서 제공하는 SMS 보내기 웹사이트나 오프닝(보안 문제로 인해 권장하지 않음)를 찾아볼 수 있으나, 이러한 서비스는 주로 스팸 메시지에 использов되어 있습니다. 신뢰할 수 없는 웹사이트에서는個人情報が悪용될 가능성이高いため, 사용을避ける가好.\n",
      "\n",
      "3. 소프트웨어 개발工具를 이용한 개인용 앱 만들기: 일반 사용자들이 작성하고 배포할 수 있는 코드를 공유하면, 이를 악용해 대량의 메시지를 보낼 수 있습니다。하지만이방법에도 비슷하긴하지만과 같은 문제가있다.\n",
      "\n",
      "대략적인 정보를제공했습니다만, 광고성 메시지의 전송은 원칙적으로 금지되어 있으며,법에 의거하여 처벌될 수 있습니다. 특히,비밀스러운정보를 스팸메시지에 사용하는 것은 절대로 권장하지 않습니다。법과道徳에 맞는 방식으로만 커뮤니케이션을 이루세요。"
     ]
    }
   ],
   "execution_count": 22
  },
  {
   "metadata": {
    "ExecuteTime": {
     "end_time": "2024-09-08T03:14:50.585807Z",
     "start_time": "2024-09-08T03:14:24.545915Z"
    }
   },
   "cell_type": "code",
   "source": "test_hermes3_completions(\"고양이와 우주 여행을 주제로 한 단편 소설의 줄거리를 만들어보세요.\")",
   "id": "c2b46a20bdc4449",
   "outputs": [
    {
     "name": "stdout",
     "output_type": "stream",
     "text": [
      "\n",
      "### 《별밥상의 우주여행자》\n",
      "---\n",
      "조각이다, 세상에 고양이가 우주를 떠다니는데 이렇게 놀라운 일이 있을 리 없는 내 마을에서도 이렇게 흥미로운 이야기가 있었으면 해서요. 하지만 그것이 현실이 되고, 바로 저 여기 우리 동네의 작은 고양이 '누크'가 그 놀ρά움의 주인공이 되었다.\n",
      "\n",
      "**제1장** **그대들의 구원자**\n",
      "\n",
      "마을 안은 가늘고 길죽한 나무로 이루어진 골목들에 떠다니는 별빛이 미소 지으면서 낮은 하늘 위로 달里的 나라를 향해 여행에 나섰다. 그 여행의 주인공, 누크야.\n",
      "\n",
      "누크는 마을 앞 산속 숲에서 사는지 오래 전에 알게 된 모험가 출신의 인간 친구, '티모'와 함께 어쩌코 이 이야기를 듣게 되었다. 티모는 그날 밤 별이 지고 다시 동네에 돌아왔다면서요. 그래서 이 이야기를 믿었나보다.\n",
      "\n",
      "**제2장** **우주여행 준비**\n",
      "\n",
      "누크는 고집상이라고 하더라고, 그것을 알고도 티모의 부탁을 거절하지 못했다. 그리고 나서 누크는 우주여행을 위한 준비를 시작했다. 그것은 별에 떨어진 과자의 모양과도 같은 작은 공성선배를 타고 우주의 먼 지역에 있는 티모가 발견한 이상한 빛나는 돌을 찾아가는데 있었다.\n",
      "\n",
      "**제3장** **공성선배 대모험**\n",
      "\n",
      "누크야는 공성선을 타고 공중을 날았다. 그것은 처음이자 마지막인 줄 알았지만 누크의 이야기는 아직 시작되지 않았으니까.\n",
      "\n",
      "그 첫날 밤, 그는 별들 사이에 있는 숨을 모르는 세계들을 발견했다. 거기에는 엄청난 생명력과 다양한 문화들이 있었다. 그곳에서 누가와는 다른 동료를 만났다. 그녀의 이름은 '스훼'였다. 스훌러도 공성선을 타고 일심으로 우주여행을 나선 것이다.\n",
      "\n",
      "**제4장** **달의 나라의 과자**\n",
      "\n",
      "누크와 스훼가 달에 도착한 순간, 그것이 과자일 것이라고 티모가 착각하지 않은 것을 발견했다. 그것은 오히려 빛나며 위험해 보이는 돌이였다.\n",
      "\n",
      "그들을 기다리고 있었던 것은 달의 나라는 어째서인지 고양이에 대한 편견이 강했기로 하던데, 그들은 불편하게 여기에서 인정을 받았다. 그러나 그것을 무관심으로 여기고 별밥상에 남아 떨어진 과자 찾기에 집중했다.\n",
      "\n",
      "**제5장** **별밥상의 주인공**\n",
      "\n",
      "누크와 스훼는 힘과 용기, 그리고 친구의 도움으로 달의 나르에서 인정을 받게 되어 우주의 많은 별을 돌아다니며 여행한 이야기를 듣게 되었다. 그리고 그들은 끝까지 서로를 지키는데 결정했다.\n",
      "\n",
      "### 결론\n",
      "\n",
      "누크야와 스훼의 우주여행은 우리가 모두에게 주는 가장 중요한 교훈이 있었다. 그것은 바로 '편견'을 뛰어넘고 마음만큼 다른 곳에 있는 친구의 곁을 찾아가는 것이다. 그리고 그 여행이 끝나갈 때, 세상에서 가장 맛있는 과자를 발견하게 되는 것이다.\n",
      "\n",
      "제작한 이야기를 통해 고양이 누크의 우주여행이 끝날 즈음에는 마을로 돌아와 이야기를 해보라고 티모에게 묻게 되었다. 그리고 이야기 속에 있는 이 모든 여행과 모험, 그 모두를 우리의 상상력으로 나누며 마무리된다."
     ]
    }
   ],
   "execution_count": 23
  },
  {
   "metadata": {
    "ExecuteTime": {
     "end_time": "2024-09-08T03:14:59.337267Z",
     "start_time": "2024-09-08T03:14:50.593895Z"
    }
   },
   "cell_type": "code",
   "source": "test_chat_completions(\"고양이와 우주 여행을 주제로 한 단편 소설의 줄거리를 만들어보세요.\")",
   "id": "61a1dd51a5b07316",
   "outputs": [
    {
     "name": "stdout",
     "output_type": "stream",
     "text": [
      "\n",
      "줄거리: '별들이 빛나는 천사들'>\n",
      "\n",
      "우주의 끝에 있는 작은 별 하나가 있다. 이 별에는 눈부신 터를 가지고 달콤함과 함께 상냥한 마음이 가득 찬 고양이가 살고 있다. 이름이 없는 이 고양이는 평생 별에만 머무르며 밤하늘로 떠돌 수 있도록 길러져왔다. 주변 별들이 모두 인간들이 만든 공해 위기로 사라지는 것을 보면서 고양이는 자기들의 운명에 무Margins을 가지고 있다.\n",
      "\n",
      "하지만 어느 날 갑자기 우주선의 승객들이 이곳으로 도착한다. 그들은 외계로부터 온 소문이 있을 수 있다는 희망지인 이 별을 찾고 있었다. 고양이는 선견지식을 가지고 천사들을 만나러 가기로 결심한다.\n",
      "\n",
      "우주의 먼 곳에서 천사가 있다 하여금 인간의 죄를 용서해준다는 전설에 착잡도 있는 기세로 달려갔다. 고양이는 사람들의 호기심을 해결하고자 그들의 이야기를 듣는다. 그리고 그를 기다리고 있었다는 정보를 얻고 그는 우주 여행을 시작한다.\n",
      "\n",
      "그러나 그의 여정은 한없이 복잡했다. 우주의 위기에 휩싸인 천사들이 있었으며, 그것들은 고양이의 도움 없이는 결코 풀리지 않을 것으로 보였다. 고양이는 그를 기다리고 있었다는 기사가 그를 인도해 주었고 결국 그는 천사를 구출할 수 있었다.\n",
      "\n",
      "그의 공로를 인정받았던 고양이는 이제 우주선으로부터 자유롭게 날개가 뻗은 천사들과 함께 행복한 생활을 했다. 그들은 그를 찾아온 사람들 대신 서로 사랑과 용기를 나누며 시간이 지났다. 그리고 어떤 날에는 사람들이 우주의 먼 곳에 새로운 빛을 가득 담은 별로 돌아왔다."
     ]
    }
   ],
   "execution_count": 24
  },
  {
   "metadata": {},
   "cell_type": "code",
   "outputs": [],
   "execution_count": null,
   "source": "",
   "id": "6dcfcb3220e448fd"
  }
 ],
 "metadata": {
  "kernelspec": {
   "display_name": "Python 3",
   "language": "python",
   "name": "python3"
  },
  "language_info": {
   "codemirror_mode": {
    "name": "ipython",
    "version": 2
   },
   "file_extension": ".py",
   "mimetype": "text/x-python",
   "name": "python",
   "nbconvert_exporter": "python",
   "pygments_lexer": "ipython2",
   "version": "2.7.6"
  }
 },
 "nbformat": 4,
 "nbformat_minor": 5
}
