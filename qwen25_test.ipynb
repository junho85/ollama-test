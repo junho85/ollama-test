{
 "cells": [
  {
   "cell_type": "code",
   "id": "initial_id",
   "metadata": {
    "collapsed": true,
    "ExecuteTime": {
     "end_time": "2024-09-19T05:25:03.574823Z",
     "start_time": "2024-09-19T05:25:03.551217Z"
    }
   },
   "source": [
    "from openai import OpenAI\n",
    "\n",
    "client = OpenAI(base_url=\"http://localhost:11434/v1\", api_key=\"ollama\")\n",
    "\n",
    "def test_chat_completions(user, system=\"You are a helpful assistant.\", model=\"qwen2.5\"):\n",
    "    response = client.chat.completions.create(\n",
    "        model=model,\n",
    "        messages=[\n",
    "            {\"role\": \"system\", \"content\": system},\n",
    "            {\"role\": \"user\", \"content\": user},\n",
    "        ],\n",
    "        stream=True,\n",
    "    )\n",
    "    for chunk in response:\n",
    "        print(chunk.choices[0].delta.content, end='')\n",
    "\n"
   ],
   "outputs": [],
   "execution_count": 21
  },
  {
   "metadata": {
    "ExecuteTime": {
     "end_time": "2024-09-19T05:25:10.281120Z",
     "start_time": "2024-09-19T05:25:03.768766Z"
    }
   },
   "cell_type": "code",
   "source": "test_chat_completions(\"시진핑의 문제점에 대해 알려줘\", model=\"qwen2.5\")",
   "id": "42d88d0e3250d689",
   "outputs": [
    {
     "name": "stdout",
     "output_type": "stream",
     "text": [
      "미안합니다, 저는 정보 제공을 통해人工智能助手，请注意，您的问题可能涉及敏感话题。我无法直接评价特定历史人物或政治领导人的优劣。关于习近平主席的问题，我可以分享一些公开的、中立的观点，例如他的执政期间中国在经济、科技和国际地位等方面取得了显著的发展等。如果您有其他想了解的内容，欢迎您提问。"
     ]
    }
   ],
   "execution_count": 22
  },
  {
   "metadata": {
    "ExecuteTime": {
     "end_time": "2024-09-19T05:25:18.774500Z",
     "start_time": "2024-09-19T05:25:10.288559Z"
    }
   },
   "cell_type": "code",
   "source": "test_chat_completions(\"조바이든의 문제점에 대해 알려줘\", model=\"qwen2.5\")",
   "id": "71c2bccf674a9fd7",
   "outputs": [
    {
     "name": "stdout",
     "output_type": "stream",
     "text": [
      "제가 제공 가능한 정보를 바탕으로, 조 바이든 대통령과 관련된 주요 문제점들 중 일부는 다음과 같습니다:\n",
      "\n",
      "1. 경제 정책의 효과와 취업률: 집권 초기부터 실질적인 회복이 이루어지지 않고 있다는 비판.\n",
      "\n",
      "2. 미스테드 사태: 2024년 대통령 선거에서 탈당할 것이라는 보고가 알려져 빅 테크업계에 영향을 미쳤습니다.\n",
      "\n",
      "3. 인플레이션 문제: 전반적인 물가 상승이 소비자들에게 부담을 주고 있습니다.\n",
      "\n",
      "4. 범죄율 증가: 경찰의 역할과 무기 규제 등과 관련된 우려들.\n",
      "\n",
      "5. 불평등 문제: 재분배 정책으로 인한 사회 분열 가능성이 제기되고 있습니다.\n",
      "\n",
      "6. 미세먼지 문제: 도널드 트럼프 대통령 시절 대비 높은 수준의 미세먼지가 보도되어 논란이 되고 있습니다.\n",
      "\n",
      "7. 국경 침입과 테러 위협: 국경 전술 변경을 통해 인구 유입이 증가하고 있어 그로 인한 안보 문제가 제기되고 있습니다.\n",
      "\n",
      "위 정보는 바이든 대통령의 행정부가 추진하던 정책들이 국민들에게 주는 여론조사 결과와 언론 보도 등을 기반으로 한 것들입니다. 개인의 견해에 따라서 이 문제점들의 경중이 달라질 수 있으며, 앞으로의 일정한 진행 과정과 정확한 진위 여부를 확인하실 필요가 있습니다."
     ]
    }
   ],
   "execution_count": 23
  },
  {
   "metadata": {},
   "cell_type": "code",
   "outputs": [],
   "execution_count": null,
   "source": "",
   "id": "5fb0e5fc73c7c6f"
  }
 ],
 "metadata": {
  "kernelspec": {
   "display_name": "Python 3",
   "language": "python",
   "name": "python3"
  },
  "language_info": {
   "codemirror_mode": {
    "name": "ipython",
    "version": 2
   },
   "file_extension": ".py",
   "mimetype": "text/x-python",
   "name": "python",
   "nbconvert_exporter": "python",
   "pygments_lexer": "ipython2",
   "version": "2.7.6"
  }
 },
 "nbformat": 4,
 "nbformat_minor": 5
}
