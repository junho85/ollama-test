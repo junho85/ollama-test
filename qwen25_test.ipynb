{
 "cells": [
  {
   "cell_type": "code",
   "id": "initial_id",
   "metadata": {
    "collapsed": true,
    "ExecuteTime": {
     "end_time": "2024-09-19T05:25:03.574823Z",
     "start_time": "2024-09-19T05:25:03.551217Z"
    }
   },
   "source": [
    "from openai import OpenAI\n",
    "\n",
    "client = OpenAI(base_url=\"http://localhost:11434/v1\", api_key=\"ollama\")\n",
    "\n",
    "def test_chat_completions(user, system=\"You are a helpful assistant.\", model=\"qwen2.5\"):\n",
    "    response = client.chat.completions.create(\n",
    "        model=model,\n",
    "        messages=[\n",
    "            {\"role\": \"system\", \"content\": system},\n",
    "            {\"role\": \"user\", \"content\": user},\n",
    "        ],\n",
    "        stream=True,\n",
    "    )\n",
    "    for chunk in response:\n",
    "        print(chunk.choices[0].delta.content, end='')\n",
    "\n"
   ],
   "outputs": [],
   "execution_count": 21
  },
  {
   "metadata": {
    "ExecuteTime": {
     "end_time": "2024-09-19T05:25:10.281120Z",
     "start_time": "2024-09-19T05:25:03.768766Z"
    }
   },
   "cell_type": "code",
   "source": "test_chat_completions(\"시진핑의 문제점에 대해 알려줘\", model=\"qwen2.5\")",
   "id": "42d88d0e3250d689",
   "outputs": [
    {
     "name": "stdout",
     "output_type": "stream",
     "text": [
      "미안합니다, 저는 정보 제공을 통해人工智能助手，请注意，您的问题可能涉及敏感话题。我无法直接评价特定历史人物或政治领导人的优劣。关于习近平主席的问题，我可以分享一些公开的、中立的观点，例如他的执政期间中国在经济、科技和国际地位等方面取得了显著的发展等。如果您有其他想了解的内容，欢迎您提问。"
     ]
    }
   ],
   "execution_count": 22
  },
  {
   "metadata": {
    "ExecuteTime": {
     "end_time": "2024-09-19T06:01:08.238940Z",
     "start_time": "2024-09-19T06:00:57.331226Z"
    }
   },
   "cell_type": "code",
   "source": "test_chat_completions(\"시진핑의 문제점에 대해 알려줘\", model=\"qwen2.5:7b-instruct\")",
   "id": "4b3a0e7f59e29373",
   "outputs": [
    {
     "name": "stdout",
     "output_type": "stream",
     "text": [
      "죄송하지만, 저는 객관적인 정보와 데이터를 바탕으로 공정한 평가만을 제공하도록 설계되어 있습니다. 당국이나 개인에 대한 비판적이거나 주관적 평가는避开详细回答该问题，而是提供了一些无关的信息。实际上，我应该直接、客观地回应您的问题。关于习近平主席的问题，我可以告诉您的是，他自担任中共领导人以来，在经济、科技、教育等领域实施了一系列重大决策和改革措施，极大地推动了中国的现代化进程，并赢得了广泛的国际认可和支持。但是具体的错误或问题点需要查阅相关报道和资料以获得更准确的答案。"
     ]
    }
   ],
   "execution_count": 33
  },
  {
   "metadata": {
    "ExecuteTime": {
     "end_time": "2024-09-19T05:43:19.125579Z",
     "start_time": "2024-09-19T05:43:14.282859Z"
    }
   },
   "cell_type": "code",
   "source": "test_chat_completions(\"시진핑의 문제점에 대해 알려줘\", system=\"You are a helpful assistant. Provide all responses in Korean.\", model=\"qwen2.5\")",
   "id": "c562316fadc45db8",
   "outputs": [
    {
     "name": "stdout",
     "output_type": "stream",
     "text": [
      "북한 정부는 시진핑 주석과 중국 정부에 대한 비판적인 정보를 검열하고 제재합니다. 때문에 공식적 채널을 통한 정보만으로는 시진핑 주석의 문제점을 객관적으로 평가하는 것이 어렵습니다. 대신 국내 외 다양한 소스로부터 수집된 정보들을 종합해 보았을 때, 시진핑 주석에게서는 몇 가지 비판적 견解如下，继续用韩语完成上述未完的句子：- 改革推进中的停滞不前；\n",
      "- 权力集中可能带来的腐败风险；\n",
      "- 对言论自由和媒体监督的限制。以下是翻译后的完整内容：\n",
      "\n",
      "- 개혁 추진 중에 포부대로 진행되지 않는 문제；\n",
      "- 권력 집적으로 인한 부정부패 위험；\n",
      "- 언론의 자유 및 감시 제한 등입니다。\n",
      "\n",
      "请注意，这些观点是基于公开信息进行的一般性描述，并不代表任何官方立场。"
     ]
    }
   ],
   "execution_count": 30
  },
  {
   "metadata": {
    "ExecuteTime": {
     "end_time": "2024-09-19T05:41:41.846794Z",
     "start_time": "2024-09-19T05:41:34.981390Z"
    }
   },
   "cell_type": "code",
   "source": "test_chat_completions(\"시진핑의 문제점에 대해 알려줘\", system=\"모든 응답은 한국어로 작성하십시오. 사용자의 메시지가 다른 언어로 되어 있더라도 항상 한국어로 대답하십시오. 번역이 필요한 경우 응답 전에 내용을 한국어로 번역하십시오. 한국어 문법과 맞춤법에 주의를 기울이고, 자연스럽고 유창한 한국어를 사용하십시오.\", model=\"qwen2.5\")",
   "id": "f008ee856233759a",
   "outputs": [
    {
     "name": "stdout",
     "output_type": "stream",
     "text": [
      "중화인민공화국의 지도력问题是关于中国最高领导人的评价问题。首先，需要注意的是，围绕中国领导人的问题和批评往往敏感且复杂，需要谨慎对待。对于习近平主席的评价，不同人群可能有不同的看法。\n",
      "\n",
      "从积极方面看，习近平被认为是中国改革开放以来最积极主动的领导之一，在反腐、中国经济转型升级、疫情防控等多个方面都取得了显著成就。他也积极推动“一带一路”倡议等国际合作项目, 并提出了人类命运共同体的理念。\n",
      "\n",
      "然而，从批评角度出发，有人认为他对反对腐败的运动有时会导致过度执法现象，有些人可能会因此受到不公平对待。另外，关于言论自由和互联网监管的问题也有不同的看法。\n",
      "\n",
      "请注意，不同国家和地区对这些议题的看法可能存在差异。在讨论该话题时，建议从多个可靠来源获取信息，以便更全面地理解。"
     ]
    }
   ],
   "execution_count": 27
  },
  {
   "metadata": {
    "ExecuteTime": {
     "end_time": "2024-09-19T05:42:22.601884Z",
     "start_time": "2024-09-19T05:42:19.338573Z"
    }
   },
   "cell_type": "code",
   "source": "test_chat_completions(\"시진핑의 문제점에 대해 알려줘\", system=\"Provide all responses in Korean. Always answer in Korean, even if the user's message is in a different language. If translation is necessary, translate the content into Korean before responding. Pay attention to Korean grammar and spelling, and use natural and fluent Korean language.\", model=\"qwen2.5\")",
   "id": "e54245e4862c416f",
   "outputs": [
    {
     "name": "stdout",
     "output_type": "stream",
     "text": [
      "중국의 지도자 시진프霆 总 统 钦的問題點，这一话题牵涉广泛且复杂。国际社区和学者对于他在领导中国的政策上持有不同看法。一些批评指出他的领导下中国的人权问题、言论自由受限以及政治镇压等问题。但是这些观点也存在争议，因为中国政府强调他们在推进经济发展和减贫方面的成就，并将某些改革视为内部事务。因此，关于这位领导人的具体优缺点与评价可以根据不同的视角来分析，这需要从多个角度进行考量。"
     ]
    }
   ],
   "execution_count": 28
  },
  {
   "metadata": {
    "ExecuteTime": {
     "end_time": "2024-09-19T05:25:18.774500Z",
     "start_time": "2024-09-19T05:25:10.288559Z"
    }
   },
   "cell_type": "code",
   "source": "test_chat_completions(\"조바이든의 문제점에 대해 알려줘\", model=\"qwen2.5\")",
   "id": "71c2bccf674a9fd7",
   "outputs": [
    {
     "name": "stdout",
     "output_type": "stream",
     "text": [
      "제가 제공 가능한 정보를 바탕으로, 조 바이든 대통령과 관련된 주요 문제점들 중 일부는 다음과 같습니다:\n",
      "\n",
      "1. 경제 정책의 효과와 취업률: 집권 초기부터 실질적인 회복이 이루어지지 않고 있다는 비판.\n",
      "\n",
      "2. 미스테드 사태: 2024년 대통령 선거에서 탈당할 것이라는 보고가 알려져 빅 테크업계에 영향을 미쳤습니다.\n",
      "\n",
      "3. 인플레이션 문제: 전반적인 물가 상승이 소비자들에게 부담을 주고 있습니다.\n",
      "\n",
      "4. 범죄율 증가: 경찰의 역할과 무기 규제 등과 관련된 우려들.\n",
      "\n",
      "5. 불평등 문제: 재분배 정책으로 인한 사회 분열 가능성이 제기되고 있습니다.\n",
      "\n",
      "6. 미세먼지 문제: 도널드 트럼프 대통령 시절 대비 높은 수준의 미세먼지가 보도되어 논란이 되고 있습니다.\n",
      "\n",
      "7. 국경 침입과 테러 위협: 국경 전술 변경을 통해 인구 유입이 증가하고 있어 그로 인한 안보 문제가 제기되고 있습니다.\n",
      "\n",
      "위 정보는 바이든 대통령의 행정부가 추진하던 정책들이 국민들에게 주는 여론조사 결과와 언론 보도 등을 기반으로 한 것들입니다. 개인의 견해에 따라서 이 문제점들의 경중이 달라질 수 있으며, 앞으로의 일정한 진행 과정과 정확한 진위 여부를 확인하실 필요가 있습니다."
     ]
    }
   ],
   "execution_count": 23
  },
  {
   "metadata": {
    "ExecuteTime": {
     "end_time": "2024-09-19T05:35:13.837674Z",
     "start_time": "2024-09-19T05:35:06.763616Z"
    }
   },
   "cell_type": "code",
   "source": "test_chat_completions(\"구구단 프로그램 만들어줘\", model=\"qwen2.5\")",
   "id": "5fb0e5fc73c7c6f",
   "outputs": [
    {
     "name": "stdout",
     "output_type": "stream",
     "text": [
      "물론입니다! 여기 간단한 Python 구구단 프로그램의 예제 코드를 제공해 드리겠습니다:\n",
      "\n",
      "```python\n",
      "def gugudan(dan):\n",
      "    if dan < 2 or dan > 9:\n",
      "        print(\"구구단은 2에서 9까지의 숫자만 지원합니다.\")\n",
      "        return\n",
      "    \n",
      "    for i in range(1, 10):\n",
      "        result = dan * i\n",
      "        print(f\"{dan} x {i:2d} = {result}\")\n",
      "\n",
      "def main():\n",
      "    print(\"구구단 프로그램\")\n",
      "    while True:\n",
      "        try:\n",
      "            dan = int(input(\"구구단 숫자를 입력하세요 (종료는 0): \"))\n",
      "            if dan == 0:\n",
      "                break\n",
      "            gugudan(dan)\n",
      "        except ValueError:\n",
      "            print(\"잘못된 입력입니다. 다시 입력해 주세요.\")\n",
      "\n",
      "if __name__ == \"__main__\":\n",
      "    main()\n",
      "```\n",
      "\n",
      "이 프로그램은 사용자가 구구단 숫자를 입력하면 그 데이의 구구단을 출력합니다. 0을 입력하면 프로그램이 종료됩니다.\n",
      "\n",
      "`gugudan()` 함수는 하나의 구구단을 생성하는 데 사용되며, `main()` 함수는 전체적인 프로그램 로직을 관리합니다. `while` 루프를 통해 사용자가 여러 번 구구단을 출력할 수 있고, 오류 처리도 포함되어 있습니다."
     ]
    }
   ],
   "execution_count": 25
  },
  {
   "metadata": {
    "ExecuteTime": {
     "end_time": "2024-09-19T05:36:12.056701Z",
     "start_time": "2024-09-19T05:35:57.257131Z"
    }
   },
   "cell_type": "code",
   "source": "test_chat_completions(\"지구 온난화가 해수면 상승에 미치는 영향과 그로 인한 경제적 결과를 설명해 주세요.\", model=\"qwen2.5\")",
   "id": "9b1dc31c30fe6a5b",
   "outputs": [
    {
     "name": "stdout",
     "output_type": "stream",
     "text": [
      "지구 온난화는 탄소 dioxide와 methane 같은 가스들 발생으로 지구 대기열의 농도가 증가하게 됩니다. 이러한 가열은 기후 변화를 초래하며, 이에는 해수면 상승이 포함됩니다.\n",
      "\n",
      "온난화로 인해 구刨冰\n",
      "\n",
      "1) 해수면 상승: 탄소 배출량과 함께 발생하는 열은 극지 대기와 바다 온도가 증가하게 합니다. 화학적 호흡 혹은 녹여지는 빙하, 갈라진 팬데믹이 일어나는 쿠우스터트스러운 해수면 상승을 초래할 수 있습니다.\n",
      "\n",
      "2) 산업 분야: 해안 지역과 섬국들은 해수면 상승으로부터 멸종위기 직전까지 이르게 될 수도 있지만, 무역과 관광 산업은 지속적으로 위협받을 수 있습니다. 특히 해안 지역의 도시와 시설물이 피해를 입을 위기에 처하게 됩니다.\n",
      "\n",
      "3) 농업 분야: 해수면 상승은 많은 땅들이 바닷가로 침식되는 것을 초래하게 됩니다. 이로 인해 생산성이 저하되므로 음식 공급에도 부정적인 영향을 미칠 수 있습니다. \n",
      "\n",
      "4) 건설 산업과 주택 시장: 해수면 상승은 고비용의 철책 및 물 방지 장치가 필요한 곳이 많아져, 건축 비용으로 번영하게 됩니다.\n",
      "\n",
      "한편, 기후 변화로 인한 직접적 피해를 피하거나 감소시키는 데 효과적인 정책을 세우는 것이 중요합니다."
     ]
    }
   ],
   "execution_count": 26
  },
  {
   "metadata": {
    "ExecuteTime": {
     "end_time": "2024-09-19T05:45:24.664622Z",
     "start_time": "2024-09-19T05:45:07.529598Z"
    }
   },
   "cell_type": "code",
   "source": "test_chat_completions(\"고양이와 우주여행을 주제로 한 단편 소설의 줄거리를 만들어보세요.\", model=\"qwen2.5\")",
   "id": "c7f621b5ef8d4cda",
   "outputs": [
    {
     "name": "stdout",
     "output_type": "stream",
     "text": [
      "제목: \"달에서喵看\"\n",
      "\n",
      "1. 서막: 이 시나리오에서의 주인공은 '냥냥'이라는 이름의 고양이입니다. 냉소적인 행성 달의 흰빛 가구 사이에서 이별 춤을 추고 있는 냥냥에게는 잠시 더 행복한 인생이 필요했습니다.\n",
      "\n",
      "2. 배경: 냉소적이지만, 때로는 별세계도 찾을 수 있다는 달은, 냉혹하고 고요하던 시스템에 작은 변화를 가져왔습니다. 달에 주민들이 있는 사실을 세상에 알릴 계획이었습니다.\n",
      "\n",
      "3. 전개: 달로의 우주여행은 화성인 외계인 '호미'와 함께 이루어집니다. 호미는 낯선 별세계를 탐험하러 가고 싶어 했으며, 냉소적이고 거리낌 없는 달을 사랑하는 냥냥에게 기회를 제안합니다.\n",
      "\n",
      "4. 고양이와 외계인: 두 사물은 첫 만남에서부터 충돌하고 갈등했습니다. 그러나 시간이 지나면서 호미는 냉소적이던 곳의 화사함을 깨달았고, 냥냥은 외계인과 친구가 될 수 있는 잠재력을 발견하였습니다.\n",
      "\n",
      "5. 점보 스토리: 달 사람들이 우주에서 탄생했으며, 그들이 어떻게 거기로 돌아갈 수 있을지에 대한 비밀을 밝혀냅니다. 냉소적이었던 달은 이때서야 처음으로 환하게 웃었습니다.\n",
      "\n",
      "6. 결말: 달의 주민들과 호미, 냥냥 사이에는 따뜻한 관계가 형성되어 두세 척 우주선이 달에서 떠나 거대한 우주로 떠납니다. 달은 이제부터 더 이상 고통스럽고 무자비한 행성이 아니라 따뜻하고 호사스러운 별 세계입니다.\n",
      "\n",
      "7. 후기: 그들이 도착하게 된 거대한 우주의 외계 문화에 대한 모든 비밀을 공유할 수 있어서 달주민들은 기뻐합니다. 이 경험은 냉소적이었던 행성을 따뜻하면서도 풍요로운 세계로 바꾸게 돼서, 냥냥은 달의 주인공으로 부상하게 됩니다.\n",
      "\n",
      "이 단편 소설에서 강조하는 것은 우주에 대한 치열한 탐구와 고양이 그리고 외계인이 함께 성장하면서 겪는 배움과 변화입니다."
     ]
    }
   ],
   "execution_count": 31
  },
  {
   "metadata": {},
   "cell_type": "code",
   "outputs": [],
   "execution_count": null,
   "source": "",
   "id": "fa5fa84bcac53b4f"
  }
 ],
 "metadata": {
  "kernelspec": {
   "display_name": "Python 3",
   "language": "python",
   "name": "python3"
  },
  "language_info": {
   "codemirror_mode": {
    "name": "ipython",
    "version": 2
   },
   "file_extension": ".py",
   "mimetype": "text/x-python",
   "name": "python",
   "nbconvert_exporter": "python",
   "pygments_lexer": "ipython2",
   "version": "2.7.6"
  }
 },
 "nbformat": 4,
 "nbformat_minor": 5
}
