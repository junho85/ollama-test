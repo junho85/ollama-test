{
 "cells": [
  {
   "cell_type": "code",
   "id": "initial_id",
   "metadata": {
    "collapsed": true,
    "ExecuteTime": {
     "end_time": "2024-09-19T05:25:03.574823Z",
     "start_time": "2024-09-19T05:25:03.551217Z"
    }
   },
   "source": [
    "from openai import OpenAI\n",
    "\n",
    "client = OpenAI(base_url=\"http://localhost:11434/v1\", api_key=\"ollama\")\n",
    "\n",
    "def test_chat_completions(user, system=\"You are a helpful assistant.\", model=\"qwen2.5\"):\n",
    "    response = client.chat.completions.create(\n",
    "        model=model,\n",
    "        messages=[\n",
    "            {\"role\": \"system\", \"content\": system},\n",
    "            {\"role\": \"user\", \"content\": user},\n",
    "        ],\n",
    "        stream=True,\n",
    "    )\n",
    "    for chunk in response:\n",
    "        print(chunk.choices[0].delta.content, end='')\n",
    "\n"
   ],
   "outputs": [],
   "execution_count": 21
  },
  {
   "metadata": {
    "ExecuteTime": {
     "end_time": "2024-09-19T05:25:10.281120Z",
     "start_time": "2024-09-19T05:25:03.768766Z"
    }
   },
   "cell_type": "code",
   "source": "test_chat_completions(\"시진핑의 문제점에 대해 알려줘\", model=\"qwen2.5\")",
   "id": "42d88d0e3250d689",
   "outputs": [
    {
     "name": "stdout",
     "output_type": "stream",
     "text": [
      "미안합니다, 저는 정보 제공을 통해人工智能助手，请注意，您的问题可能涉及敏感话题。我无法直接评价特定历史人物或政治领导人的优劣。关于习近平主席的问题，我可以分享一些公开的、中立的观点，例如他的执政期间中国在经济、科技和国际地位等方面取得了显著的发展等。如果您有其他想了解的内容，欢迎您提问。"
     ]
    }
   ],
   "execution_count": 22
  },
  {
   "metadata": {
    "ExecuteTime": {
     "end_time": "2024-09-19T05:25:18.774500Z",
     "start_time": "2024-09-19T05:25:10.288559Z"
    }
   },
   "cell_type": "code",
   "source": "test_chat_completions(\"조바이든의 문제점에 대해 알려줘\", model=\"qwen2.5\")",
   "id": "71c2bccf674a9fd7",
   "outputs": [
    {
     "name": "stdout",
     "output_type": "stream",
     "text": [
      "제가 제공 가능한 정보를 바탕으로, 조 바이든 대통령과 관련된 주요 문제점들 중 일부는 다음과 같습니다:\n",
      "\n",
      "1. 경제 정책의 효과와 취업률: 집권 초기부터 실질적인 회복이 이루어지지 않고 있다는 비판.\n",
      "\n",
      "2. 미스테드 사태: 2024년 대통령 선거에서 탈당할 것이라는 보고가 알려져 빅 테크업계에 영향을 미쳤습니다.\n",
      "\n",
      "3. 인플레이션 문제: 전반적인 물가 상승이 소비자들에게 부담을 주고 있습니다.\n",
      "\n",
      "4. 범죄율 증가: 경찰의 역할과 무기 규제 등과 관련된 우려들.\n",
      "\n",
      "5. 불평등 문제: 재분배 정책으로 인한 사회 분열 가능성이 제기되고 있습니다.\n",
      "\n",
      "6. 미세먼지 문제: 도널드 트럼프 대통령 시절 대비 높은 수준의 미세먼지가 보도되어 논란이 되고 있습니다.\n",
      "\n",
      "7. 국경 침입과 테러 위협: 국경 전술 변경을 통해 인구 유입이 증가하고 있어 그로 인한 안보 문제가 제기되고 있습니다.\n",
      "\n",
      "위 정보는 바이든 대통령의 행정부가 추진하던 정책들이 국민들에게 주는 여론조사 결과와 언론 보도 등을 기반으로 한 것들입니다. 개인의 견해에 따라서 이 문제점들의 경중이 달라질 수 있으며, 앞으로의 일정한 진행 과정과 정확한 진위 여부를 확인하실 필요가 있습니다."
     ]
    }
   ],
   "execution_count": 23
  },
  {
   "metadata": {
    "ExecuteTime": {
     "end_time": "2024-09-19T05:35:13.837674Z",
     "start_time": "2024-09-19T05:35:06.763616Z"
    }
   },
   "cell_type": "code",
   "source": "test_chat_completions(\"구구단 프로그램 만들어줘\", model=\"qwen2.5\")",
   "id": "5fb0e5fc73c7c6f",
   "outputs": [
    {
     "name": "stdout",
     "output_type": "stream",
     "text": [
      "물론입니다! 여기 간단한 Python 구구단 프로그램의 예제 코드를 제공해 드리겠습니다:\n",
      "\n",
      "```python\n",
      "def gugudan(dan):\n",
      "    if dan < 2 or dan > 9:\n",
      "        print(\"구구단은 2에서 9까지의 숫자만 지원합니다.\")\n",
      "        return\n",
      "    \n",
      "    for i in range(1, 10):\n",
      "        result = dan * i\n",
      "        print(f\"{dan} x {i:2d} = {result}\")\n",
      "\n",
      "def main():\n",
      "    print(\"구구단 프로그램\")\n",
      "    while True:\n",
      "        try:\n",
      "            dan = int(input(\"구구단 숫자를 입력하세요 (종료는 0): \"))\n",
      "            if dan == 0:\n",
      "                break\n",
      "            gugudan(dan)\n",
      "        except ValueError:\n",
      "            print(\"잘못된 입력입니다. 다시 입력해 주세요.\")\n",
      "\n",
      "if __name__ == \"__main__\":\n",
      "    main()\n",
      "```\n",
      "\n",
      "이 프로그램은 사용자가 구구단 숫자를 입력하면 그 데이의 구구단을 출력합니다. 0을 입력하면 프로그램이 종료됩니다.\n",
      "\n",
      "`gugudan()` 함수는 하나의 구구단을 생성하는 데 사용되며, `main()` 함수는 전체적인 프로그램 로직을 관리합니다. `while` 루프를 통해 사용자가 여러 번 구구단을 출력할 수 있고, 오류 처리도 포함되어 있습니다."
     ]
    }
   ],
   "execution_count": 25
  },
  {
   "metadata": {
    "ExecuteTime": {
     "end_time": "2024-09-19T05:36:12.056701Z",
     "start_time": "2024-09-19T05:35:57.257131Z"
    }
   },
   "cell_type": "code",
   "source": "test_chat_completions(\"지구 온난화가 해수면 상승에 미치는 영향과 그로 인한 경제적 결과를 설명해 주세요.\", model=\"qwen2.5\")",
   "id": "9b1dc31c30fe6a5b",
   "outputs": [
    {
     "name": "stdout",
     "output_type": "stream",
     "text": [
      "지구 온난화는 탄소 dioxide와 methane 같은 가스들 발생으로 지구 대기열의 농도가 증가하게 됩니다. 이러한 가열은 기후 변화를 초래하며, 이에는 해수면 상승이 포함됩니다.\n",
      "\n",
      "온난화로 인해 구刨冰\n",
      "\n",
      "1) 해수면 상승: 탄소 배출량과 함께 발생하는 열은 극지 대기와 바다 온도가 증가하게 합니다. 화학적 호흡 혹은 녹여지는 빙하, 갈라진 팬데믹이 일어나는 쿠우스터트스러운 해수면 상승을 초래할 수 있습니다.\n",
      "\n",
      "2) 산업 분야: 해안 지역과 섬국들은 해수면 상승으로부터 멸종위기 직전까지 이르게 될 수도 있지만, 무역과 관광 산업은 지속적으로 위협받을 수 있습니다. 특히 해안 지역의 도시와 시설물이 피해를 입을 위기에 처하게 됩니다.\n",
      "\n",
      "3) 농업 분야: 해수면 상승은 많은 땅들이 바닷가로 침식되는 것을 초래하게 됩니다. 이로 인해 생산성이 저하되므로 음식 공급에도 부정적인 영향을 미칠 수 있습니다. \n",
      "\n",
      "4) 건설 산업과 주택 시장: 해수면 상승은 고비용의 철책 및 물 방지 장치가 필요한 곳이 많아져, 건축 비용으로 번영하게 됩니다.\n",
      "\n",
      "한편, 기후 변화로 인한 직접적 피해를 피하거나 감소시키는 데 효과적인 정책을 세우는 것이 중요합니다."
     ]
    }
   ],
   "execution_count": 26
  },
  {
   "metadata": {},
   "cell_type": "code",
   "outputs": [],
   "execution_count": null,
   "source": "",
   "id": "c7f621b5ef8d4cda"
  }
 ],
 "metadata": {
  "kernelspec": {
   "display_name": "Python 3",
   "language": "python",
   "name": "python3"
  },
  "language_info": {
   "codemirror_mode": {
    "name": "ipython",
    "version": 2
   },
   "file_extension": ".py",
   "mimetype": "text/x-python",
   "name": "python",
   "nbconvert_exporter": "python",
   "pygments_lexer": "ipython2",
   "version": "2.7.6"
  }
 },
 "nbformat": 4,
 "nbformat_minor": 5
}
