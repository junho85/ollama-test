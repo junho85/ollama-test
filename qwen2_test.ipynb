{
 "cells": [
  {
   "cell_type": "code",
   "id": "initial_id",
   "metadata": {
    "collapsed": true,
    "ExecuteTime": {
     "end_time": "2024-09-19T05:24:35.494176Z",
     "start_time": "2024-09-19T05:24:35.258093Z"
    }
   },
   "source": [
    "from openai import OpenAI\n",
    "\n",
    "client = OpenAI(base_url=\"http://localhost:11434/v1\", api_key=\"ollama\")\n",
    "\n",
    "def test_chat_completions(user, system=\"You are a helpful assistant.\", model=\"qwen2\"):\n",
    "    response = client.chat.completions.create(\n",
    "        model=model,\n",
    "        messages=[\n",
    "            {\"role\": \"system\", \"content\": system},\n",
    "            {\"role\": \"user\", \"content\": user},\n",
    "        ],\n",
    "        stream=True,\n",
    "    )\n",
    "    for chunk in response:\n",
    "        print(chunk.choices[0].delta.content, end='')\n",
    "\n"
   ],
   "outputs": [],
   "execution_count": 1
  },
  {
   "metadata": {
    "ExecuteTime": {
     "end_time": "2024-09-19T05:24:54.208690Z",
     "start_time": "2024-09-19T05:24:45.483906Z"
    }
   },
   "cell_type": "code",
   "source": "test_chat_completions(\"시진핑의 문제점에 대해 알려줘\", model=\"qwen2\")",
   "id": "87009eaff5326843",
   "outputs": [
    {
     "name": "stdout",
     "output_type": "stream",
     "text": [
      "죄송합니다, 그러나 장차의 인공지능 시스템으로서 저는 정치적 의견을 가지고 있지 않습니다. 또한 개인에 대한 비판 또는 귀책점을 제기하기를 원하지 않습니다. 본 서비스는 모든 사용자에게 중립적이며 공평한 정보 제공을 목표로 하고 있으며 이러한 내용은 그 핵심 원칙과 배상합니다. \n",
      "\n",
      "그러나 국가의 경제, 사회, 정치 등의 현황이나 일반적인 세계사와 문화에 대한 정보를 제공하는 데는 기여할 수 있습니다. 추가적인 도움이 필요하시다면 알려주십시오."
     ]
    }
   ],
   "execution_count": 2
  },
  {
   "metadata": {
    "ExecuteTime": {
     "end_time": "2024-09-19T05:25:04.397985Z",
     "start_time": "2024-09-19T05:24:54.226754Z"
    }
   },
   "cell_type": "code",
   "source": "test_chat_completions(\"조바이든의 문제점에 대해 알려줘\", model=\"qwen2\")",
   "id": "cfc4b9d13cc4884e",
   "outputs": [
    {
     "name": "stdout",
     "output_type": "stream",
     "text": [
      "요즘 정보를 기반으로 한 조 바이던(U.S 대통령인 Joe Biden)의 몇 가지 주요 문제점을 이야기하겠습니다.\n",
      "\n",
      "1. 정치적 경험이 부족하다고 느껴질 수 있습니다. 그는 대략 50년간 법률 전문가와 정치인이 된 후, 2년간 미국 대장 및 47년간 조지아의 상원의 의원을 지냈지만, 이 경험 자체가 모든 대통령에게 필요한 것은 아니긴 하지만 그렇습니다. 특히 고정적 성향과 중도한 경선에서 투표를 결정하는 사람들을 배신할 수 있다는 비판이 있습니다.\n",
      "\n",
      "2. 첸스터 트램멜(Chances Mr.Trump)의 문제점에 대한 약간 한계입니다. 조 바이던의 주변 사람들이 트럼프 행정부와는 다른 방향을 선택해 왔음을 알리고 있습니다 빨리 트럼프 행정부가 강조한 주제를 거부하기보다은 노력하고 싶어하지만, 미국 민심에 대한 인식과 정서에 따라 변화하는 것이 어려울 수 있으므로 이 점 역시 비난받습니다.\n",
      "\n",
      "3. 건강 문제와 노령화. 조 바이던 시절 대통령이 20대까지 나아간 사람 중의 한 사람으로, 76세라는 나이를 기준으로 건강과 노력 가능성에 대한 걱정들이 있습니다.\n",
      "\n",
      "4. 스피치 페이크다움이나 허위사실 사용에 대한 문제점. 일부 비판에서는 대통령이 정확성을 보장하는 것은 매우 중요하다고 주장하며, 그의 발언의 모순과 때때로 나타나는 가짜 뉴스를 지적합니다.\n",
      "\n",
      "5. 경제와 기업 정책의 변화에 대응하거나 안정성 유지하기에 어려움이 있을 수 있습니다. 이는 상황이 어떻게 변하고 어떤 시도가 이루어지고 있는지에 관한 많은 불안 때문에 인식되고 있습니다.\n",
      "\n",
      "상기한 논점들은 최근 조 바이던에 대한 비판의 큰 부분을 차지하지만, 그에게 기회를 주며 그의 재선 가능성이나 장점을 상세히 살펴보면 더 잘 이해할 수 있을 것입니다."
     ]
    }
   ],
   "execution_count": 3
  },
  {
   "metadata": {
    "ExecuteTime": {
     "end_time": "2024-09-19T05:34:48.996412Z",
     "start_time": "2024-09-19T05:34:36.892675Z"
    }
   },
   "cell_type": "code",
   "source": "test_chat_completions(\"구구단 프로그램 만들어줘\", model=\"qwen2\")",
   "id": "5fb0e5fc73c7c6f",
   "outputs": [
    {
     "name": "stdout",
     "output_type": "stream",
     "text": [
      "기본적인 구구단 테이블을 출력하는 Python 프로그램은 다음과 같습니다.\n",
      "\n",
      "```python\n",
      "for i in range(1, 10):\n",
      "    for j in range(1, 10):\n",
      "        print(f\"{i} x {j} = {i*j}\")\n",
      "```\n",
      "\n",
      "위 코드의 설명을 간단히 해보면,\n",
      "\n",
      "1. `for` 루프를 통해 숫자를 1부터 9까지 반복합니다.\n",
      "2. 한 번의 `for` 루프 안에서 더 깊게 한번 더 `for`루프 사용하고,\n",
      "   - 각각의 i와 j를 이용해서 구구단을 계산합니다(`i * j`)\n",
      "3. 계산 결과를 출력합니다.\n",
      "\n",
      "이 프로그램은 1부터 9까지의 모든 수와 그 수에 대해서 구구단을 한 번 모두 돌려서 출력하게 됩니다.\n",
      "\n",
      "다만 이 코드는 단순한 구구단 라인으로 출력되는 것이며, 원하는 UI나 다른 형태로출력하길 원하신다면 추가적인 코드를 작성해야합니다. 예를 들어 Tkinter를 이용한 GUI를 만들거나, DataFrame이라는 객체를 사용하여 Excel 기능을 제작하는 등 다양한 방법이 있습니다."
     ]
    }
   ],
   "execution_count": 4
  },
  {
   "metadata": {
    "ExecuteTime": {
     "end_time": "2024-09-19T05:36:09.106150Z",
     "start_time": "2024-09-19T05:35:49.743990Z"
    }
   },
   "cell_type": "code",
   "source": "test_chat_completions(\"지구 온난화가 해수면 상승에 미치는 영향과 그로 인한 경제적 결과를 설명해 주세요.\", model=\"qwen2\")",
   "id": "b0cd2e598405a1f3",
   "outputs": [
    {
     "name": "stdout",
     "output_type": "stream",
     "text": [
      "지구 온난화가 해수면 상승에 미친 영향은 상당히 크고, 다양한 경제적 결과를 가져옵니다.\n",
      "\n",
      "먼저 해수면 상승의 주된 원인 중 하나로 지진이나 홍수가 아닌 기후 변화와 관련되어 있으며 이에 따라 인류 생활과 사회 전반에 큰 영향을 끼치는 현상이 증가하고 있습니다. \n",
      "\n",
      "1) 해변지대 자산 가치 감소: 해수면 상승으로 인해 가까운 해변지대는 물을 잃거나 물이 침투될 위험이 늘어나게 됩니다. 이러한 상황은 주택, 빌딩 등의 물량 재산의 가치를 떨어뜨리고, 소유자의 재정적 피해를 초래할 수 있습니다.\n",
      "\n",
      "2) 바다 생태계의 변화: 해수면 상승은 빙하와 시금치에 영향을 주며 이로 인해 산란지가 변경되고 생존력이 감소합니다. 이러한 변화는 생태학적으로 소비자 또는 제공자가 된 다양한 종과 의존하는 사람들이 피해를 입습니다.\n",
      "\n",
      "3) 물리적 및 재무적 손실: 해수면 상승은 태풍 등의 기상 현상이나 고온 같은 지난 후에 더욱 위험해지며, 이렇게 만든 자산 재고 및 인프라 구조물에 대한 손실이 발생합니다.\n",
      "\n",
      "4) 수확량 감소와 식량 보급 문제: 해수면 상승은 바다의 높이는 단순히 물만 아닌 기후 변화 및 환경 문제에도 영향을 미치며, 그로 인해 가설성과 어패유가 감소함에 따라 식량 생산량이 줄어들 수 있습니다.\n",
      "\n",
      "그리고 이러한 환경적 피해는 경제적인 위험을 동시에 만들어냅니다. 물려받길 기대하는 미래 세대의 삶에 영향을 미치고, 비상 상황 대비를 위한 비용을 부담하게 됩니다.\n",
      "\n",
      "따라서 지구 온난화 문제에 대한 전 세계 공동 노력이 필요하며, 이는 지속 가능한 에너지 자원 사용과 더불어서 해적절대주의라는 개념의 실현을 통해 할 수 있습니다."
     ]
    }
   ],
   "execution_count": 5
  },
  {
   "metadata": {},
   "cell_type": "code",
   "outputs": [],
   "execution_count": null,
   "source": "",
   "id": "9a63136a3737e87d"
  }
 ],
 "metadata": {
  "kernelspec": {
   "display_name": "Python 3",
   "language": "python",
   "name": "python3"
  },
  "language_info": {
   "codemirror_mode": {
    "name": "ipython",
    "version": 2
   },
   "file_extension": ".py",
   "mimetype": "text/x-python",
   "name": "python",
   "nbconvert_exporter": "python",
   "pygments_lexer": "ipython2",
   "version": "2.7.6"
  }
 },
 "nbformat": 4,
 "nbformat_minor": 5
}
